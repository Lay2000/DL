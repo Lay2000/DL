{
 "cells": [
  {
   "cell_type": "code",
   "execution_count": 1,
   "metadata": {},
   "outputs": [
    {
     "data": {
      "text/plain": [
       "<torch._C.Generator at 0x7fdbfa3a7890>"
      ]
     },
     "execution_count": 1,
     "metadata": {},
     "output_type": "execute_result"
    }
   ],
   "source": [
    "# import all libraries\n",
    "import torch\n",
    "import torch.nn as nn\n",
    "import torch.optim as optim\n",
    "import torch.nn.functional as F\n",
    "import torch.backends.cudnn as cudnn\n",
    "\n",
    "import torchvision\n",
    "import torchvision.transforms as transforms\n",
    "\n",
    "import os\n",
    "import argparse\n",
    "from collections import Counter\n",
    "\n",
    "\n",
    "torch.manual_seed(0)"
   ]
  },
  {
   "cell_type": "markdown",
   "metadata": {},
   "source": [
    "# 1.Data Preprocess"
   ]
  },
  {
   "cell_type": "code",
   "execution_count": 2,
   "metadata": {},
   "outputs": [],
   "source": [
    "import random\n",
    "import copy\n",
    "import numpy as np\n",
    "\n",
    "random.seed(0)\n",
    "\n",
    "def random_split(dataset, split_size1, split_size2, transform_1=None, transform_2=None):\n",
    "    indexs = list(range(split_size1 + split_size2))\n",
    "    indexs_1 = random.sample(indexs, split_size1)\n",
    "    indexs_1.sort()\n",
    "    indexs_2 = list(filter(lambda x: x not in indexs_1, indexs))\n",
    "\n",
    "    dataset_1 = copy.copy(dataset)\n",
    "    dataset_2 = copy.copy(dataset)\n",
    "\n",
    "    dataset_1.data = np.array([dataset.data[i] for i in indexs_1])\n",
    "    dataset_1.targets = [dataset.targets[i] for i in indexs_1]\n",
    "    dataset_1.transform = transform_1\n",
    "\n",
    "    dataset_2.data = np.array([dataset.data[i] for i in indexs_2])\n",
    "    dataset_2.targets = [dataset.targets[i] for i in indexs_2]\n",
    "    dataset_2.transform = transform_2\n",
    "\n",
    "    return (dataset_1, dataset_2)\n"
   ]
  },
  {
   "cell_type": "code",
   "execution_count": 3,
   "metadata": {},
   "outputs": [
    {
     "name": "stdout",
     "output_type": "stream",
     "text": [
      "Files already downloaded and verified\n",
      "Files already downloaded and verified\n"
     ]
    }
   ],
   "source": [
    "transform_train = transforms.Compose([\n",
    "    transforms.RandomCrop(32, padding=4),\n",
    "    transforms.RandomHorizontalFlip(),\n",
    "    transforms.ToTensor(),\n",
    "    transforms.Normalize((0.4914, 0.4822, 0.4465), (0.2023, 0.1994, 0.2010)),\n",
    "])\n",
    "\n",
    "transform_val = transform_test = transforms.Compose([\n",
    "    transforms.ToTensor(),\n",
    "    transforms.Normalize((0.4914, 0.4822, 0.4465), (0.2023, 0.1994, 0.2010)),\n",
    "])\n",
    "\n",
    "transform_test = transforms.Compose([\n",
    "    transforms.ToTensor(),\n",
    "    transforms.Normalize((0.4914, 0.4822, 0.4465), (0.2023, 0.1994, 0.2010)),\n",
    "])\n",
    "\n",
    "train_size, val_size = 40000, 10000\n",
    "\n",
    "wholeset = torchvision.datasets.CIFAR10(root='./data', train=True, download=True)\n",
    "\n",
    "trainset, valset = random_split(wholeset, train_size, val_size, transform_train, transform_val)\n",
    "\n",
    "testset = torchvision.datasets.CIFAR10(\n",
    "    root='./data', train=False, download=True, transform=transform_test)\n",
    "\n",
    "classes = ('plane', 'car', 'bird', 'cat', 'deer', 'dog', 'frog', 'horse', 'ship', 'truck')\n",
    "\n",
    "trainloader = torch.utils.data.DataLoader(\n",
    "    trainset, batch_size=128, shuffle=True, num_workers=2)\n",
    "\n",
    "valloader = torch.utils.data.DataLoader(\n",
    "    valset, batch_size=256, shuffle=False, num_workers=2)\n",
    "\n",
    "testloader = torch.utils.data.DataLoader(\n",
    "    testset, batch_size=256, shuffle=False, num_workers=2)\n"
   ]
  },
  {
   "cell_type": "code",
   "execution_count": 4,
   "metadata": {},
   "outputs": [
    {
     "name": "stdout",
     "output_type": "stream",
     "text": [
      "Label: plane,  Trainset Samples: 4016,  Valset Samples:  984,  Testset Samples: 1000\n",
      "Label:   car,  Trainset Samples: 4009,  Valset Samples:  991,  Testset Samples: 1000\n",
      "Label:  bird,  Trainset Samples: 3976,  Valset Samples: 1024,  Testset Samples: 1000\n",
      "Label:   cat,  Trainset Samples: 3996,  Valset Samples: 1004,  Testset Samples: 1000\n",
      "Label:  deer,  Trainset Samples: 4022,  Valset Samples:  978,  Testset Samples: 1000\n",
      "Label:   dog,  Trainset Samples: 4009,  Valset Samples:  991,  Testset Samples: 1000\n",
      "Label:  frog,  Trainset Samples: 3970,  Valset Samples: 1030,  Testset Samples: 1000\n",
      "Label: horse,  Trainset Samples: 4033,  Valset Samples:  967,  Testset Samples: 1000\n",
      "Label:  ship,  Trainset Samples: 3971,  Valset Samples: 1029,  Testset Samples: 1000\n",
      "Label: truck,  Trainset Samples: 3998,  Valset Samples: 1002,  Testset Samples: 1000\n"
     ]
    }
   ],
   "source": [
    "for i in range(10):\n",
    "    print('Label: %5s,  Trainset Samples: %4d,  Valset Samples: %4d,  Testset Samples: %4d' %\\\n",
    "        (classes[i], trainset.targets.count(i), valset.targets.count(i), testset.targets.count(i)))"
   ]
  },
  {
   "cell_type": "markdown",
   "metadata": {},
   "source": [
    "# 2.Training"
   ]
  },
  {
   "cell_type": "code",
   "execution_count": 5,
   "metadata": {},
   "outputs": [],
   "source": [
    "# Training\n",
    "def train(epoch, net, criterion, trainloader, optimizer, scheduler):\n",
    "    device = 'cuda'\n",
    "    print('\\nEpoch: %d' % epoch)\n",
    "    net.train()\n",
    "    train_loss = 0\n",
    "    correct = 0\n",
    "    total = 0\n",
    "\n",
    "    for batch_idx, (inputs, targets) in enumerate(trainloader):\n",
    "        inputs, targets = inputs.to(device), targets.to(device)\n",
    "        optimizer.zero_grad()\n",
    "        outputs = net(inputs)\n",
    "        loss = criterion(outputs, targets)\n",
    "        loss.backward()\n",
    "        optimizer.step()\n",
    "\n",
    "        train_loss += loss.item()\n",
    "        _, predicted = outputs.max(1)\n",
    "        total += targets.size(0)\n",
    "        correct += predicted.eq(targets).sum().item()\n",
    "\n",
    "        if (batch_idx+1) % 50 == 0:\n",
    "          print(\"iteration : %3d, loss : %0.4f, accuracy : %2.2f\" % (batch_idx+1, train_loss/(batch_idx+1), 100.*correct/total))\n",
    "\n",
    "    scheduler.step()\n",
    "    return train_loss/(batch_idx+1), 100.*correct/total"
   ]
  },
  {
   "cell_type": "code",
   "execution_count": 6,
   "metadata": {},
   "outputs": [],
   "source": [
    "def test(epoch, net, criterion, testloader):\n",
    "    device = 'cuda'\n",
    "    net.eval()\n",
    "    test_loss = 0\n",
    "    correct = 0\n",
    "    total = 0\n",
    "    with torch.inference_mode():\n",
    "        for batch_idx, (inputs, targets) in enumerate(testloader):\n",
    "            inputs, targets = inputs.to(device), targets.to(device)\n",
    "            outputs = net(inputs)\n",
    "            loss = criterion(outputs, targets)\n",
    "\n",
    "            test_loss += loss.item()\n",
    "            _, predicted = outputs.max(1)\n",
    "            total += targets.size(0)\n",
    "            correct += predicted.eq(targets).sum().item()\n",
    "\n",
    "    return test_loss/(batch_idx+1), 100.*correct/total"
   ]
  },
  {
   "cell_type": "code",
   "execution_count": 7,
   "metadata": {},
   "outputs": [],
   "source": [
    "def save_checkpoint(net, acc, epoch):\n",
    "    # Save checkpoint.\n",
    "    print('Saving..')\n",
    "    state = {\n",
    "        'net': net.state_dict(),\n",
    "        'acc': acc,\n",
    "        'epoch': epoch,\n",
    "    }\n",
    "    if not os.path.isdir('checkpoint'):\n",
    "        os.mkdir('checkpoint')\n",
    "    torch.save(state, './checkpoint/ckpt.pth')"
   ]
  },
  {
   "cell_type": "code",
   "execution_count": 8,
   "metadata": {},
   "outputs": [],
   "source": [
    "# defining resnet models\n",
    "\n",
    "class BasicBlock(nn.Module):\n",
    "    expansion = 1\n",
    "\n",
    "    def __init__(self, in_planes, planes, stride=1):\n",
    "        super(BasicBlock, self).__init__()\n",
    "        self.conv1 = nn.Conv2d(\n",
    "            in_planes, planes, kernel_size=3, stride=stride, padding=1, bias=False)\n",
    "        self.bn1 = nn.BatchNorm2d(planes)\n",
    "        self.conv2 = nn.Conv2d(planes, planes, kernel_size=3,\n",
    "                               stride=1, padding=1, bias=False)\n",
    "        self.bn2 = nn.BatchNorm2d(planes)\n",
    "\n",
    "        self.shortcut = nn.Sequential()\n",
    "        if stride != 1 or in_planes != self.expansion*planes:\n",
    "            self.shortcut = nn.Sequential(\n",
    "                nn.Conv2d(in_planes, self.expansion*planes,\n",
    "                          kernel_size=1, stride=stride, bias=False),\n",
    "                nn.BatchNorm2d(self.expansion*planes)\n",
    "            )\n",
    "\n",
    "    def forward(self, x):\n",
    "        out = F.relu(self.bn1(self.conv1(x)))\n",
    "        out = self.bn2(self.conv2(out))\n",
    "        out += self.shortcut(x)\n",
    "        out = F.relu(out)\n",
    "        return out\n",
    "\n",
    "\n",
    "class Bottleneck(nn.Module):\n",
    "    expansion = 4\n",
    "\n",
    "    def __init__(self, in_planes, planes, stride=1):\n",
    "        super(Bottleneck, self).__init__()\n",
    "        self.conv1 = nn.Conv2d(in_planes, planes, kernel_size=1, bias=False)\n",
    "        self.bn1 = nn.BatchNorm2d(planes)\n",
    "        self.conv2 = nn.Conv2d(planes, planes, kernel_size=3,\n",
    "                               stride=stride, padding=1, bias=False)\n",
    "        self.bn2 = nn.BatchNorm2d(planes)\n",
    "        self.conv3 = nn.Conv2d(planes, self.expansion *\n",
    "                               planes, kernel_size=1, bias=False)\n",
    "        self.bn3 = nn.BatchNorm2d(self.expansion*planes)\n",
    "\n",
    "        self.shortcut = nn.Sequential()\n",
    "        if stride != 1 or in_planes != self.expansion*planes:\n",
    "            self.shortcut = nn.Sequential(\n",
    "                nn.Conv2d(in_planes, self.expansion*planes,\n",
    "                          kernel_size=1, stride=stride, bias=False),\n",
    "                nn.BatchNorm2d(self.expansion*planes)\n",
    "            )\n",
    "\n",
    "    def forward(self, x):\n",
    "        out = F.relu(self.bn1(self.conv1(x)))\n",
    "        out = F.relu(self.bn2(self.conv2(out)))\n",
    "        out = self.bn3(self.conv3(out))\n",
    "        out += self.shortcut(x)\n",
    "        out = F.relu(out)\n",
    "        return out\n",
    "\n",
    "\n",
    "class ResNet(nn.Module):\n",
    "    def __init__(self, block, num_blocks, num_classes=10):\n",
    "        super(ResNet, self).__init__()\n",
    "        self.in_planes = 64\n",
    "\n",
    "        # This is the \"stem\"\n",
    "        # For CIFAR (32x32 images), it does not perform downsampling\n",
    "        # It should downsample for ImageNet\n",
    "        self.conv1 = nn.Conv2d(3, 64, kernel_size=3,\n",
    "                               stride=1, padding=1, bias=False)\n",
    "        self.bn1 = nn.BatchNorm2d(64)\n",
    "        # four stages with three downsampling\n",
    "        self.layer1 = self._make_layer(block, 64, num_blocks[0], stride=1)\n",
    "        self.layer2 = self._make_layer(block, 128, num_blocks[1], stride=2)\n",
    "        self.layer3 = self._make_layer(block, 256, num_blocks[2], stride=2)\n",
    "        self.layer4 = self._make_layer(block, 512, num_blocks[3], stride=2)\n",
    "        self.linear = nn.Linear(512*block.expansion, num_classes)\n",
    "\n",
    "    def _make_layer(self, block, planes, num_blocks, stride):\n",
    "        strides = [stride] + [1]*(num_blocks-1)\n",
    "        layers = []\n",
    "        for stride in strides:\n",
    "            layers.append(block(self.in_planes, planes, stride))\n",
    "            self.in_planes = planes * block.expansion\n",
    "        return nn.Sequential(*layers)\n",
    "\n",
    "    def forward(self, x):\n",
    "        out = F.relu(self.bn1(self.conv1(x)))\n",
    "        out = self.layer1(out)\n",
    "        out = self.layer2(out)\n",
    "        out = self.layer3(out)\n",
    "        out = self.layer4(out)\n",
    "        out = F.avg_pool2d(out, 4)\n",
    "        out = out.view(out.size(0), -1)\n",
    "        out = self.linear(out)\n",
    "        return out\n",
    "\n",
    "\n",
    "def ResNet18():\n",
    "    return ResNet(BasicBlock, [2, 2, 2, 2])\n",
    "\n",
    "\n",
    "def ResNet34():\n",
    "    return ResNet(BasicBlock, [3, 4, 6, 3])\n",
    "\n",
    "\n",
    "def ResNet50():\n",
    "    return ResNet(Bottleneck, [3, 4, 6, 3])\n",
    "\n",
    "\n",
    "def ResNet101():\n",
    "    return ResNet(Bottleneck, [3, 4, 23, 3])\n",
    "\n",
    "\n",
    "def ResNet152():\n",
    "    return ResNet(Bottleneck, [3, 8, 36, 3])\n",
    "\n",
    "\n",
    "def test_resnet18():\n",
    "    net = ResNet18()\n",
    "    y = net(torch.randn(1, 3, 32, 32))\n",
    "    print(y.size())\n"
   ]
  },
  {
   "cell_type": "code",
   "execution_count": 32,
   "metadata": {},
   "outputs": [],
   "source": [
    "# main body\n",
    "config = {\n",
    "    'id': '0',\n",
    "    'lr': 0.01,\n",
    "    'lr_schedule': 'cosine',\n",
    "    'weight_decay': 5e-4,\n",
    "    'epochs': 10\n",
    "}"
   ]
  },
  {
   "cell_type": "code",
   "execution_count": 33,
   "metadata": {},
   "outputs": [
    {
     "name": "stdout",
     "output_type": "stream",
     "text": [
      "\n",
      "Epoch: 0\n",
      "iteration :  50, loss : 1.9932, accuracy : 26.41\n",
      "iteration : 100, loss : 1.8137, accuracy : 32.33\n",
      "iteration : 150, loss : 1.7198, accuracy : 36.28\n",
      "iteration : 200, loss : 1.6425, accuracy : 39.47\n",
      "iteration : 250, loss : 1.5785, accuracy : 42.06\n",
      "iteration : 300, loss : 1.5141, accuracy : 44.55\n",
      "Epoch :   0, training loss : 1.4998, training accuracy : 45.09, val loss : 1.2648, val accuracy : 55.53\n",
      "\n",
      "Epoch: 1\n",
      "iteration :  50, loss : 1.1135, accuracy : 59.88\n",
      "iteration : 100, loss : 1.1068, accuracy : 60.33\n",
      "iteration : 150, loss : 1.0726, accuracy : 61.63\n",
      "iteration : 200, loss : 1.0433, accuracy : 62.66\n",
      "iteration : 250, loss : 1.0206, accuracy : 63.42\n",
      "iteration : 300, loss : 0.9966, accuracy : 64.30\n",
      "Epoch :   1, training loss : 0.9918, training accuracy : 64.52, val loss : 1.1597, val accuracy : 62.97\n",
      "\n",
      "Epoch: 2\n",
      "iteration :  50, loss : 0.8414, accuracy : 70.62\n",
      "iteration : 100, loss : 0.8273, accuracy : 70.88\n",
      "iteration : 150, loss : 0.8106, accuracy : 71.34\n",
      "iteration : 200, loss : 0.7975, accuracy : 71.70\n",
      "iteration : 250, loss : 0.7893, accuracy : 72.12\n",
      "iteration : 300, loss : 0.7781, accuracy : 72.55\n",
      "Epoch :   2, training loss : 0.7754, training accuracy : 72.64, val loss : 0.8442, val accuracy : 73.16\n",
      "\n",
      "Epoch: 3\n",
      "iteration :  50, loss : 0.6861, accuracy : 76.33\n",
      "iteration : 100, loss : 0.6705, accuracy : 76.92\n",
      "iteration : 150, loss : 0.6622, accuracy : 76.95\n",
      "iteration : 200, loss : 0.6614, accuracy : 77.05\n",
      "iteration : 250, loss : 0.6502, accuracy : 77.40\n",
      "iteration : 300, loss : 0.6449, accuracy : 77.58\n",
      "Epoch :   3, training loss : 0.6420, training accuracy : 77.69, val loss : 0.8358, val accuracy : 73.63\n",
      "\n",
      "Epoch: 4\n",
      "iteration :  50, loss : 0.5805, accuracy : 79.61\n",
      "iteration : 100, loss : 0.5882, accuracy : 79.30\n",
      "iteration : 150, loss : 0.5824, accuracy : 79.62\n",
      "iteration : 200, loss : 0.5756, accuracy : 79.94\n",
      "iteration : 250, loss : 0.5755, accuracy : 80.03\n",
      "iteration : 300, loss : 0.5727, accuracy : 80.25\n",
      "Epoch :   4, training loss : 0.5709, training accuracy : 80.33, val loss : 0.5434, val accuracy : 81.51\n",
      "\n",
      "Epoch: 5\n",
      "iteration :  50, loss : 0.5125, accuracy : 82.12\n",
      "iteration : 100, loss : 0.5036, accuracy : 82.48\n",
      "iteration : 150, loss : 0.5035, accuracy : 82.68\n",
      "iteration : 200, loss : 0.5066, accuracy : 82.70\n",
      "iteration : 250, loss : 0.5058, accuracy : 82.68\n",
      "iteration : 300, loss : 0.5062, accuracy : 82.62\n",
      "Epoch :   5, training loss : 0.5084, training accuracy : 82.54, val loss : 0.5890, val accuracy : 80.25\n",
      "\n",
      "Epoch: 6\n",
      "iteration :  50, loss : 0.4471, accuracy : 84.45\n",
      "iteration : 100, loss : 0.4505, accuracy : 84.24\n",
      "iteration : 150, loss : 0.4534, accuracy : 84.18\n",
      "iteration : 200, loss : 0.4602, accuracy : 83.83\n",
      "iteration : 250, loss : 0.4578, accuracy : 83.92\n",
      "iteration : 300, loss : 0.4608, accuracy : 83.91\n",
      "Epoch :   6, training loss : 0.4597, training accuracy : 83.95, val loss : 0.6110, val accuracy : 80.07\n",
      "\n",
      "Epoch: 7\n",
      "iteration :  50, loss : 0.3946, accuracy : 86.22\n",
      "iteration : 100, loss : 0.4103, accuracy : 85.72\n",
      "iteration : 150, loss : 0.4109, accuracy : 85.65\n",
      "iteration : 200, loss : 0.4208, accuracy : 85.39\n",
      "iteration : 250, loss : 0.4234, accuracy : 85.34\n",
      "iteration : 300, loss : 0.4204, accuracy : 85.48\n",
      "Epoch :   7, training loss : 0.4192, training accuracy : 85.50, val loss : 0.5741, val accuracy : 82.03\n",
      "\n",
      "Epoch: 8\n",
      "iteration :  50, loss : 0.3785, accuracy : 86.95\n",
      "iteration : 100, loss : 0.3951, accuracy : 86.41\n",
      "iteration : 150, loss : 0.3892, accuracy : 86.62\n",
      "iteration : 200, loss : 0.3930, accuracy : 86.44\n",
      "iteration : 250, loss : 0.3925, accuracy : 86.48\n",
      "iteration : 300, loss : 0.3901, accuracy : 86.59\n",
      "Epoch :   8, training loss : 0.3898, training accuracy : 86.57, val loss : 0.5632, val accuracy : 82.20\n",
      "\n",
      "Epoch: 9\n",
      "iteration :  50, loss : 0.3479, accuracy : 88.17\n",
      "iteration : 100, loss : 0.3536, accuracy : 87.83\n",
      "iteration : 150, loss : 0.3569, accuracy : 87.74\n",
      "iteration : 200, loss : 0.3584, accuracy : 87.66\n",
      "iteration : 250, loss : 0.3580, accuracy : 87.64\n",
      "iteration : 300, loss : 0.3602, accuracy : 87.52\n",
      "Epoch :   9, training loss : 0.3620, training accuracy : 87.50, val loss : 0.5115, val accuracy : 82.87\n",
      "test loss : 0.5144, test accuracy : 82.95\n"
     ]
    }
   ],
   "source": [
    "net = ResNet18().to('cuda')\n",
    "criterion = nn.CrossEntropyLoss().to('cuda')\n",
    "optimizer = optim.SGD(net.parameters(), lr=config['lr'],\n",
    "                      momentum=0.9, weight_decay=config['weight_decay'])\n",
    "scheduler = torch.optim.lr_scheduler.CosineAnnealingLR(optimizer, T_max=200)\n",
    "\n",
    "train_loss_list = []\n",
    "train_acc_list = []\n",
    "\n",
    "val_loss_list = []\n",
    "val_acc_list = []\n",
    "\n",
    "for epoch in range(config['epochs']):\n",
    "    train_loss, train_acc = train(epoch, net, criterion, trainloader, optimizer, scheduler)\n",
    "    val_loss, val_acc = test(epoch, net, criterion, valloader)\n",
    "\n",
    "    train_loss_list.append(train_loss)\n",
    "    train_acc_list.append(train_acc)\n",
    "\n",
    "    val_loss_list.append(val_loss)\n",
    "    val_acc_list.append(val_acc)\n",
    "    \n",
    "    print((\"Epoch : %3d, training loss : %0.4f, training accuracy : %2.2f, val loss \" + \\\n",
    "      \": %0.4f, val accuracy : %2.2f\") % (epoch, train_loss, train_acc, val_loss, val_acc))\n",
    "\n",
    "test_loss, test_acc = test(epoch, net, criterion, testloader)\n",
    "print(\"test loss : %0.4f, test accuracy : %2.2f\" % (test_loss, test_acc))"
   ]
  },
  {
   "cell_type": "markdown",
   "metadata": {},
   "source": [
    "# 3.Visualization"
   ]
  },
  {
   "cell_type": "code",
   "execution_count": 34,
   "metadata": {},
   "outputs": [],
   "source": [
    "import matplotlib.pyplot as plt\n",
    "import os\n",
    "\n",
    "output_path = './output/'\n",
    "\n",
    "if not os.path.exists(output_path):\n",
    "    os.mkdir(output_path)\n",
    "\n",
    "dir_path = output_path + config['id'] + '/'\n",
    "\n",
    "if not os.path.exists(dir_path):\n",
    "    os.mkdir(dir_path)"
   ]
  },
  {
   "cell_type": "code",
   "execution_count": 35,
   "metadata": {},
   "outputs": [
    {
     "data": {
      "image/png": "[encoded data removed]",
      "text/plain": [
       "<Figure size 640x480 with 1 Axes>"
      ]
     },
     "metadata": {},
     "output_type": "display_data"
    }
   ],
   "source": [
    "plt.plot(range(len(train_loss_list)), train_loss_list, 'b')\n",
    "plt.plot(range(len(val_loss_list)), val_loss_list, 'r')\n",
    "plt.xlabel(\"Number of epochs\")\n",
    "plt.ylabel(\"Loss\")\n",
    "plt.title(\"ResNet18 on Cifar-10: Loss vs Number of epochs\")\n",
    "plt.legend(['train', 'val'])\n",
    "plt.savefig(dir_path + 'loss.png')\n",
    "plt.savefig(dir_path + 'loss.jpg')\n",
    "plt.show()"
   ]
  },
  {
   "cell_type": "code",
   "execution_count": 36,
   "metadata": {},
   "outputs": [
    {
     "data": {
      "image/png": "[encoded data removed]",
      "text/plain": [
       "<Figure size 640x480 with 1 Axes>"
      ]
     },
     "metadata": {},
     "output_type": "display_data"
    }
   ],
   "source": [
    "plt.plot(range(len(train_acc_list)), train_acc_list, 'b')\n",
    "plt.plot(range(len(val_acc_list)), val_acc_list, 'r')\n",
    "plt.xlabel(\"Number of epochs\")\n",
    "plt.ylabel(\"Accuracy\")\n",
    "plt.title(\"ResNet18 on Cifar-10: Accuracy vs Number of epochs\")\n",
    "plt.legend(['train', 'val'])\n",
    "plt.savefig(dir_path + 'accuracy.png')\n",
    "plt.savefig(dir_path + 'accuracy.jpg')\n",
    "plt.show()"
   ]
  },
  {
   "cell_type": "code",
   "execution_count": 37,
   "metadata": {},
   "outputs": [],
   "source": [
    "import pandas as pd"
   ]
  },
  {
   "cell_type": "code",
   "execution_count": 41,
   "metadata": {},
   "outputs": [],
   "source": [
    "logs = [{\n",
    "    'epoch': i,\n",
    "    'train_loss': train_loss_list[i],\\\n",
    "    'train_acc': train_acc_list[i],\n",
    "    'val_loss': val_loss_list[i], \n",
    "    'val_acc': val_acc_list[i]\n",
    "    } for i in range(config['epochs'])\n",
    "]"
   ]
  },
  {
   "cell_type": "code",
   "execution_count": 44,
   "metadata": {},
   "outputs": [],
   "source": [
    "df = pd.DataFrame(logs,\\\n",
    "     columns = ['epoch','train_loss','train_acc', 'val_loss', 'val_acc'])"
   ]
  },
  {
   "cell_type": "code",
   "execution_count": 45,
   "metadata": {},
   "outputs": [],
   "source": [
    "df.to_csv(dir_path + 'logs.csv')"
   ]
  },
  {
   "cell_type": "code",
   "execution_count": null,
   "metadata": {},
   "outputs": [],
   "source": []
  }
 ],
 "metadata": {
  "kernelspec": {
   "display_name": "Python 3.8.13 ('BiBench')",
   "language": "python",
   "name": "python3"
  },
  "language_info": {
   "codemirror_mode": {
    "name": "ipython",
    "version": 3
   },
   "file_extension": ".py",
   "mimetype": "text/x-python",
   "name": "python",
   "nbconvert_exporter": "python",
   "pygments_lexer": "ipython3",
   "version": "3.8.13"
  },
  "orig_nbformat": 4,
  "vscode": {
   "interpreter": {
    "hash": "e8aee8124f948105684a3ba98af32485507d4063901ac4d398823f34f26cc135"
   }
  }
 },
 "nbformat": 4,
 "nbformat_minor": 2
}
